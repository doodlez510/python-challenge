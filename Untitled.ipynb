{
 "cells": [
  {
   "cell_type": "code",
   "execution_count": 2,
   "metadata": {},
   "outputs": [
    {
     "ename": "FileNotFoundError",
     "evalue": "[Errno 2] No such file or directory: '/Desktop/UCDSAC201902DATA4/03-Python/Homework/Instructions/PyBank/Resources/budget_data.csv'",
     "output_type": "error",
     "traceback": [
      "\u001b[1;31m---------------------------------------------------------------------------\u001b[0m",
      "\u001b[1;31mFileNotFoundError\u001b[0m                         Traceback (most recent call last)",
      "\u001b[1;32m<ipython-input-2-2b99968a9d9e>\u001b[0m in \u001b[0;36m<module>\u001b[1;34m\u001b[0m\n\u001b[0;32m     10\u001b[0m \u001b[0mcsvpath\u001b[0m\u001b[1;33m=\u001b[0m \u001b[1;34m'/Desktop/UCDSAC201902DATA4/03-Python/Homework/Instructions/PyBank/Resources/budget_data.csv'\u001b[0m\u001b[1;33m\u001b[0m\u001b[1;33m\u001b[0m\u001b[0m\n\u001b[0;32m     11\u001b[0m \u001b[1;33m\u001b[0m\u001b[0m\n\u001b[1;32m---> 12\u001b[1;33m \u001b[1;32mwith\u001b[0m \u001b[0mopen\u001b[0m\u001b[1;33m(\u001b[0m\u001b[0mcsvpath\u001b[0m\u001b[1;33m,\u001b[0m\u001b[0mmode\u001b[0m\u001b[1;33m=\u001b[0m\u001b[1;34m'r'\u001b[0m\u001b[1;33m,\u001b[0m\u001b[0mnewline\u001b[0m\u001b[1;33m=\u001b[0m\u001b[1;34m''\u001b[0m\u001b[1;33m)\u001b[0m \u001b[1;32mas\u001b[0m \u001b[0mcsvfile\u001b[0m\u001b[1;33m:\u001b[0m\u001b[1;33m\u001b[0m\u001b[1;33m\u001b[0m\u001b[0m\n\u001b[0m\u001b[0;32m     13\u001b[0m \u001b[1;33m\u001b[0m\u001b[0m\n\u001b[0;32m     14\u001b[0m     \u001b[0mcsvreader\u001b[0m \u001b[1;33m=\u001b[0m\u001b[0mcsv\u001b[0m\u001b[1;33m.\u001b[0m\u001b[0mreader\u001b[0m\u001b[1;33m(\u001b[0m\u001b[0mcsvfile\u001b[0m\u001b[1;33m,\u001b[0m \u001b[0mdelimiter\u001b[0m\u001b[1;33m=\u001b[0m\u001b[1;34m','\u001b[0m\u001b[1;33m)\u001b[0m\u001b[1;33m\u001b[0m\u001b[1;33m\u001b[0m\u001b[0m\n",
      "\u001b[1;31mFileNotFoundError\u001b[0m: [Errno 2] No such file or directory: '/Desktop/UCDSAC201902DATA4/03-Python/Homework/Instructions/PyBank/Resources/budget_data.csv'"
     ]
    }
   ],
   "source": [
    "import csv\n",
    "\n",
    "count=0\n",
    "total =0\n",
    "average = 0\n",
    "max_profit = 0\n",
    "max_date = \"\"\n",
    "min_profit =0\n",
    "min_date = \"\"\n",
    "csvpath= '/Desktop/UCDSAC201902DATA4/03-Python/Homework/Instructions/PyBank/Resources/budget_data.csv'\n",
    "\n",
    "with open(csvpath,mode='r',newline='') as csvfile:\n",
    "    \n",
    "    csvreader =csv.reader(csvfile, delimiter=',')\n",
    "\n",
    "    csv_header = next(csvfile)\n",
    "    print(f\"Header: {csv_header}\")\n",
    "    for row in csvreader:\n",
    "\n",
    "        value=float(row[1])\n",
    "\n",
    "        if value>max_profit:\n",
    "            max_profit=value\n",
    "            max_date = row[0]\n",
    "\n",
    "        if value<min_profit:\n",
    "            min_profit=value\n",
    "            min_date= row[0]\n",
    "\n",
    "        total=float(row[1])+total\n",
    "        count=count+1\n",
    "\n",
    "\n",
    "    print(\"Financial Analysis\")\n",
    "    print(\"--------------------------\")\n",
    "    print(f\"Total months: {count}\")\n",
    "    print(f\"Total: {total}\")\n",
    "    print(f\"Average Change: ${total/count}\")\n",
    "    print(f\"Greatest Increase in Profits: {max_date} (${max_profit})\")\n",
    "    print(f\"Greatest Decrease in Profits: {min_date} (${min_profit})\")"
   ]
  },
  {
   "cell_type": "code",
   "execution_count": null,
   "metadata": {},
   "outputs": [],
   "source": []
  }
 ],
 "metadata": {
  "kernelspec": {
   "display_name": "Python 3",
   "language": "python",
   "name": "python3"
  },
  "language_info": {
   "codemirror_mode": {
    "name": "ipython",
    "version": 3
   },
   "file_extension": ".py",
   "mimetype": "text/x-python",
   "name": "python",
   "nbconvert_exporter": "python",
   "pygments_lexer": "ipython3",
   "version": "3.7.1"
  }
 },
 "nbformat": 4,
 "nbformat_minor": 2
}
